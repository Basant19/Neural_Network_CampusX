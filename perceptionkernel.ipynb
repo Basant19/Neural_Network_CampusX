{
 "cells": [
  {
   "cell_type": "code",
   "execution_count": 1,
   "id": "101422df-a9fd-40f1-b5a2-07a4425c9e79",
   "metadata": {},
   "outputs": [],
   "source": [
    "import numpy as np\n",
    "import matplotlib.pyplot as plt\n",
    "import joblib\n",
    "import pandas as pd\n",
    "plt.style.use(\"fivethirtyeight\")"
   ]
  },
  {
   "cell_type": "code",
   "execution_count": 2,
   "id": "0bff021a-3343-40b5-acfb-4f72662b6f3f",
   "metadata": {},
   "outputs": [],
   "source": [
    "class Perceptron:\n",
    "  def __init__(self, eta, epochs):\n",
    "    self.weights = np.random.randn(3) * 1e-4\n",
    "    print(f\"self.weights: {self.weights}\")\n",
    "    self.eta = eta\n",
    "    self.epochs = epochs\n",
    "\n",
    "  def activationFunction(self, inputs, weights):\n",
    "    z = np.dot(inputs, weights)\n",
    "    return np.where(z > 0 , 1, 0)\n",
    "\n",
    "  def fit(self, X, y):\n",
    "    self.X = X\n",
    "    self.y = y\n",
    "\n",
    "    X_with_bias = np.c_[self.X, -np.ones((len(self.X), 1))] # concactination\n",
    "    print(f\"X_with_bias: \\n{X_with_bias}\")\n",
    "\n",
    "    for epoch in range(self.epochs):\n",
    "      print(f\"for epoch: {epoch}\")\n",
    "      y_hat = self.activationFunction(X_with_bias, self.weights)\n",
    "      print(f\"predicted value: \\n{y_hat}\")\n",
    "      error = self.y - y_hat\n",
    "      print(f\"error: \\n{error}\")\n",
    "      self.weights = self.weights + self.eta * np.dot(X_with_bias.T, error)\n",
    "      print(f\"updated weights: \\n{self.weights}\")\n",
    "      print(\"#############\\n\")\n",
    "\n",
    "  def predict(self, X):\n",
    "    X_with_bias = np.c_[X, -np.ones((len(self.X), 1))]\n",
    "    return self.activationFunction(X_with_bias, self.weights)"
   ]
  },
  {
   "cell_type": "markdown",
   "id": "7fa7b418-27f7-4305-8769-b8df0c4b662b",
   "metadata": {},
   "source": [
    "using perception to solve and operation"
   ]
  },
  {
   "cell_type": "code",
   "execution_count": 3,
   "id": "26d67a8f-51ae-4a0e-8f43-02aff7f0d6a5",
   "metadata": {},
   "outputs": [
    {
     "data": {
      "text/html": [
       "<div>\n",
       "<style scoped>\n",
       "    .dataframe tbody tr th:only-of-type {\n",
       "        vertical-align: middle;\n",
       "    }\n",
       "\n",
       "    .dataframe tbody tr th {\n",
       "        vertical-align: top;\n",
       "    }\n",
       "\n",
       "    .dataframe thead th {\n",
       "        text-align: right;\n",
       "    }\n",
       "</style>\n",
       "<table border=\"1\" class=\"dataframe\">\n",
       "  <thead>\n",
       "    <tr style=\"text-align: right;\">\n",
       "      <th></th>\n",
       "      <th>x1</th>\n",
       "      <th>x2</th>\n",
       "      <th>y</th>\n",
       "    </tr>\n",
       "  </thead>\n",
       "  <tbody>\n",
       "    <tr>\n",
       "      <th>0</th>\n",
       "      <td>0</td>\n",
       "      <td>0</td>\n",
       "      <td>0</td>\n",
       "    </tr>\n",
       "    <tr>\n",
       "      <th>1</th>\n",
       "      <td>0</td>\n",
       "      <td>1</td>\n",
       "      <td>0</td>\n",
       "    </tr>\n",
       "    <tr>\n",
       "      <th>2</th>\n",
       "      <td>1</td>\n",
       "      <td>0</td>\n",
       "      <td>0</td>\n",
       "    </tr>\n",
       "    <tr>\n",
       "      <th>3</th>\n",
       "      <td>1</td>\n",
       "      <td>1</td>\n",
       "      <td>1</td>\n",
       "    </tr>\n",
       "  </tbody>\n",
       "</table>\n",
       "</div>"
      ],
      "text/plain": [
       "   x1  x2  y\n",
       "0   0   0  0\n",
       "1   0   1  0\n",
       "2   1   0  0\n",
       "3   1   1  1"
      ]
     },
     "execution_count": 3,
     "metadata": {},
     "output_type": "execute_result"
    }
   ],
   "source": [
    "data = {\"x1\": [0,0,1,1], \"x2\": [0,1,0,1], \"y\": [0,0,0,1]}\n",
    "\n",
    "AND = pd.DataFrame(data)\n",
    "AND"
   ]
  },
  {
   "cell_type": "code",
   "execution_count": 4,
   "id": "103a678f-fcc7-4857-9196-4ebbce3a4806",
   "metadata": {},
   "outputs": [
    {
     "data": {
      "text/html": [
       "<div>\n",
       "<style scoped>\n",
       "    .dataframe tbody tr th:only-of-type {\n",
       "        vertical-align: middle;\n",
       "    }\n",
       "\n",
       "    .dataframe tbody tr th {\n",
       "        vertical-align: top;\n",
       "    }\n",
       "\n",
       "    .dataframe thead th {\n",
       "        text-align: right;\n",
       "    }\n",
       "</style>\n",
       "<table border=\"1\" class=\"dataframe\">\n",
       "  <thead>\n",
       "    <tr style=\"text-align: right;\">\n",
       "      <th></th>\n",
       "      <th>x1</th>\n",
       "      <th>x2</th>\n",
       "    </tr>\n",
       "  </thead>\n",
       "  <tbody>\n",
       "    <tr>\n",
       "      <th>0</th>\n",
       "      <td>0</td>\n",
       "      <td>0</td>\n",
       "    </tr>\n",
       "    <tr>\n",
       "      <th>1</th>\n",
       "      <td>0</td>\n",
       "      <td>1</td>\n",
       "    </tr>\n",
       "    <tr>\n",
       "      <th>2</th>\n",
       "      <td>1</td>\n",
       "      <td>0</td>\n",
       "    </tr>\n",
       "    <tr>\n",
       "      <th>3</th>\n",
       "      <td>1</td>\n",
       "      <td>1</td>\n",
       "    </tr>\n",
       "  </tbody>\n",
       "</table>\n",
       "</div>"
      ],
      "text/plain": [
       "   x1  x2\n",
       "0   0   0\n",
       "1   0   1\n",
       "2   1   0\n",
       "3   1   1"
      ]
     },
     "execution_count": 4,
     "metadata": {},
     "output_type": "execute_result"
    }
   ],
   "source": [
    "X = AND.drop(\"y\", axis=1)\n",
    "X"
   ]
  },
  {
   "cell_type": "code",
   "execution_count": 5,
   "id": "171b24e4-3e15-4271-a0a5-64d411f082fc",
   "metadata": {},
   "outputs": [
    {
     "data": {
      "text/html": [
       "<div>\n",
       "<style scoped>\n",
       "    .dataframe tbody tr th:only-of-type {\n",
       "        vertical-align: middle;\n",
       "    }\n",
       "\n",
       "    .dataframe tbody tr th {\n",
       "        vertical-align: top;\n",
       "    }\n",
       "\n",
       "    .dataframe thead th {\n",
       "        text-align: right;\n",
       "    }\n",
       "</style>\n",
       "<table border=\"1\" class=\"dataframe\">\n",
       "  <thead>\n",
       "    <tr style=\"text-align: right;\">\n",
       "      <th></th>\n",
       "      <th>y</th>\n",
       "    </tr>\n",
       "  </thead>\n",
       "  <tbody>\n",
       "    <tr>\n",
       "      <th>0</th>\n",
       "      <td>0</td>\n",
       "    </tr>\n",
       "    <tr>\n",
       "      <th>1</th>\n",
       "      <td>0</td>\n",
       "    </tr>\n",
       "    <tr>\n",
       "      <th>2</th>\n",
       "      <td>0</td>\n",
       "    </tr>\n",
       "    <tr>\n",
       "      <th>3</th>\n",
       "      <td>1</td>\n",
       "    </tr>\n",
       "  </tbody>\n",
       "</table>\n",
       "</div>"
      ],
      "text/plain": [
       "   y\n",
       "0  0\n",
       "1  0\n",
       "2  0\n",
       "3  1"
      ]
     },
     "execution_count": 5,
     "metadata": {},
     "output_type": "execute_result"
    }
   ],
   "source": [
    "y = AND['y']\n",
    "y.to_frame()"
   ]
  },
  {
   "cell_type": "code",
   "execution_count": 6,
   "id": "9e5249db-2a5b-4046-b2bf-f1cc2e6e050b",
   "metadata": {},
   "outputs": [
    {
     "name": "stdout",
     "output_type": "stream",
     "text": [
      "self.weights: [-4.62819120e-05 -1.37632508e-04  6.46583516e-05]\n",
      "X_with_bias: \n",
      "[[ 0.  0. -1.]\n",
      " [ 0.  1. -1.]\n",
      " [ 1.  0. -1.]\n",
      " [ 1.  1. -1.]]\n",
      "for epoch: 0\n",
      "predicted value: \n",
      "[0 0 0 0]\n",
      "error: \n",
      "0    0\n",
      "1    0\n",
      "2    0\n",
      "3    1\n",
      "Name: y, dtype: int64\n",
      "updated weights: \n",
      "[ 0.49995372  0.49986237 -0.49993534]\n",
      "#############\n",
      "\n",
      "for epoch: 1\n",
      "predicted value: \n",
      "[1 1 1 1]\n",
      "error: \n",
      "0   -1\n",
      "1   -1\n",
      "2   -1\n",
      "3    0\n",
      "Name: y, dtype: int64\n",
      "updated weights: \n",
      "[-4.62819120e-05 -1.37632508e-04  1.00006466e+00]\n",
      "#############\n",
      "\n",
      "for epoch: 2\n",
      "predicted value: \n",
      "[0 0 0 0]\n",
      "error: \n",
      "0    0\n",
      "1    0\n",
      "2    0\n",
      "3    1\n",
      "Name: y, dtype: int64\n",
      "updated weights: \n",
      "[0.49995372 0.49986237 0.50006466]\n",
      "#############\n",
      "\n",
      "for epoch: 3\n",
      "predicted value: \n",
      "[0 0 0 1]\n",
      "error: \n",
      "0    0\n",
      "1    0\n",
      "2    0\n",
      "3    0\n",
      "Name: y, dtype: int64\n",
      "updated weights: \n",
      "[0.49995372 0.49986237 0.50006466]\n",
      "#############\n",
      "\n",
      "for epoch: 4\n",
      "predicted value: \n",
      "[0 0 0 1]\n",
      "error: \n",
      "0    0\n",
      "1    0\n",
      "2    0\n",
      "3    0\n",
      "Name: y, dtype: int64\n",
      "updated weights: \n",
      "[0.49995372 0.49986237 0.50006466]\n",
      "#############\n",
      "\n",
      "for epoch: 5\n",
      "predicted value: \n",
      "[0 0 0 1]\n",
      "error: \n",
      "0    0\n",
      "1    0\n",
      "2    0\n",
      "3    0\n",
      "Name: y, dtype: int64\n",
      "updated weights: \n",
      "[0.49995372 0.49986237 0.50006466]\n",
      "#############\n",
      "\n",
      "for epoch: 6\n",
      "predicted value: \n",
      "[0 0 0 1]\n",
      "error: \n",
      "0    0\n",
      "1    0\n",
      "2    0\n",
      "3    0\n",
      "Name: y, dtype: int64\n",
      "updated weights: \n",
      "[0.49995372 0.49986237 0.50006466]\n",
      "#############\n",
      "\n",
      "for epoch: 7\n",
      "predicted value: \n",
      "[0 0 0 1]\n",
      "error: \n",
      "0    0\n",
      "1    0\n",
      "2    0\n",
      "3    0\n",
      "Name: y, dtype: int64\n",
      "updated weights: \n",
      "[0.49995372 0.49986237 0.50006466]\n",
      "#############\n",
      "\n",
      "for epoch: 8\n",
      "predicted value: \n",
      "[0 0 0 1]\n",
      "error: \n",
      "0    0\n",
      "1    0\n",
      "2    0\n",
      "3    0\n",
      "Name: y, dtype: int64\n",
      "updated weights: \n",
      "[0.49995372 0.49986237 0.50006466]\n",
      "#############\n",
      "\n",
      "for epoch: 9\n",
      "predicted value: \n",
      "[0 0 0 1]\n",
      "error: \n",
      "0    0\n",
      "1    0\n",
      "2    0\n",
      "3    0\n",
      "Name: y, dtype: int64\n",
      "updated weights: \n",
      "[0.49995372 0.49986237 0.50006466]\n",
      "#############\n",
      "\n"
     ]
    }
   ],
   "source": [
    "model = Perceptron(eta = 0.5, epochs=10)\n",
    "model.fit(X,y)"
   ]
  },
  {
   "cell_type": "code",
   "execution_count": 7,
   "id": "5138a294-96a9-48ce-8bdd-3eef6c1105fa",
   "metadata": {},
   "outputs": [
    {
     "data": {
      "text/plain": [
       "array([0, 0, 0, 1])"
      ]
     },
     "execution_count": 7,
     "metadata": {},
     "output_type": "execute_result"
    }
   ],
   "source": [
    "model.predict(X)"
   ]
  },
  {
   "cell_type": "code",
   "execution_count": 8,
   "id": "8ecdac36-ac55-4866-8588-38a580da8c11",
   "metadata": {},
   "outputs": [
    {
     "data": {
      "text/plain": [
       "array([0.49995372, 0.49986237, 0.50006466])"
      ]
     },
     "execution_count": 8,
     "metadata": {},
     "output_type": "execute_result"
    }
   ],
   "source": [
    "model.weights"
   ]
  },
  {
   "cell_type": "code",
   "execution_count": 9,
   "id": "99ceded7-4a39-4c6a-b6f7-ea1700b23da8",
   "metadata": {},
   "outputs": [
    {
     "data": {
      "text/plain": [
       "['Perceptron_model\\\\AND_model.model']"
      ]
     },
     "execution_count": 9,
     "metadata": {},
     "output_type": "execute_result"
    }
   ],
   "source": [
    "import os\n",
    "\n",
    "# saving model\n",
    "dir_ = \"Perceptron_model\"\n",
    "os.makedirs(dir_, exist_ok=True)\n",
    "filename = os.path.join(dir_, 'AND_model.model')\n",
    "joblib.dump(model, filename)"
   ]
  },
  {
   "cell_type": "code",
   "execution_count": 10,
   "id": "73cfa757-1956-43ca-954b-a42f136aea29",
   "metadata": {},
   "outputs": [
    {
     "name": "stdout",
     "output_type": "stream",
     "text": [
      "[0 0 0 1]\n"
     ]
    }
   ],
   "source": [
    "# load the model from drive\n",
    "loaded_model = joblib.load(filename)\n",
    "result = loaded_model.predict(X)\n",
    "print(result)"
   ]
  },
  {
   "cell_type": "code",
   "execution_count": null,
   "id": "70d3f93f-d67a-41d6-a0f9-2bed31057a01",
   "metadata": {},
   "outputs": [],
   "source": []
  },
  {
   "cell_type": "code",
   "execution_count": null,
   "id": "19f40670-a595-4a2c-81ef-483f66be8eef",
   "metadata": {},
   "outputs": [],
   "source": []
  },
  {
   "cell_type": "code",
   "execution_count": null,
   "id": "af0f2cc9-0b7c-4236-adfd-fab45063048f",
   "metadata": {},
   "outputs": [],
   "source": []
  }
 ],
 "metadata": {
  "kernelspec": {
   "display_name": "Python 3 (ipykernel)",
   "language": "python",
   "name": "python3"
  },
  "language_info": {
   "codemirror_mode": {
    "name": "ipython",
    "version": 3
   },
   "file_extension": ".py",
   "mimetype": "text/x-python",
   "name": "python",
   "nbconvert_exporter": "python",
   "pygments_lexer": "ipython3",
   "version": "3.12.7"
  }
 },
 "nbformat": 4,
 "nbformat_minor": 5
}
